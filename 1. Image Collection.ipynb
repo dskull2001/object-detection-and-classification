{
 "cells": [
  {
   "cell_type": "markdown",
   "metadata": {},
   "source": [
    "# 1. Import Dependencies"
   ]
  },
  {
   "cell_type": "code",
   "execution_count": 1,
   "metadata": {},
   "outputs": [
    {
     "name": "stdout",
     "output_type": "stream",
     "text": [
      "Collecting opencv-python\n",
      "  Downloading opencv_python-4.9.0.80-cp37-abi3-win_amd64.whl.metadata (20 kB)\n",
      "Collecting numpy>=1.21.2 (from opencv-python)\n",
      "  Using cached numpy-1.26.4-cp311-cp311-win_amd64.whl.metadata (61 kB)\n",
      "Downloading opencv_python-4.9.0.80-cp37-abi3-win_amd64.whl (38.6 MB)\n",
      "   ---------------------------------------- 0.0/38.6 MB ? eta -:--:--\n",
      "   ---------------------------------------- 0.3/38.6 MB 9.9 MB/s eta 0:00:04\n",
      "   - -------------------------------------- 1.1/38.6 MB 14.2 MB/s eta 0:00:03\n",
      "   - -------------------------------------- 1.8/38.6 MB 14.6 MB/s eta 0:00:03\n",
      "   --- ------------------------------------ 3.1/38.6 MB 19.6 MB/s eta 0:00:02\n",
      "   ---- ----------------------------------- 4.5/38.6 MB 20.6 MB/s eta 0:00:02\n",
      "   ----- ---------------------------------- 5.7/38.6 MB 21.6 MB/s eta 0:00:02\n",
      "   ------- -------------------------------- 7.2/38.6 MB 22.9 MB/s eta 0:00:02\n",
      "   -------- ------------------------------- 8.4/38.6 MB 23.4 MB/s eta 0:00:02\n",
      "   ---------- ----------------------------- 9.9/38.6 MB 24.4 MB/s eta 0:00:02\n",
      "   ----------- ---------------------------- 11.2/38.6 MB 26.2 MB/s eta 0:00:02\n",
      "   ------------- -------------------------- 12.9/38.6 MB 31.2 MB/s eta 0:00:01\n",
      "   -------------- ------------------------- 14.3/38.6 MB 31.2 MB/s eta 0:00:01\n",
      "   ---------------- ----------------------- 15.8/38.6 MB 31.2 MB/s eta 0:00:01\n",
      "   ----------------- ---------------------- 17.1/38.6 MB 31.2 MB/s eta 0:00:01\n",
      "   ------------------ --------------------- 17.8/38.6 MB 31.2 MB/s eta 0:00:01\n",
      "   ------------------ --------------------- 18.3/38.6 MB 27.3 MB/s eta 0:00:01\n",
      "   ------------------------- -------------- 24.8/38.6 MB 29.8 MB/s eta 0:00:01\n",
      "   ---------------------------- ----------- 27.5/38.6 MB 32.7 MB/s eta 0:00:01\n",
      "   ------------------------------ --------- 29.0/38.6 MB 38.5 MB/s eta 0:00:01\n",
      "   ------------------------------- -------- 30.4/38.6 MB 32.7 MB/s eta 0:00:01\n",
      "   -------------------------------- ------- 31.8/38.6 MB 38.6 MB/s eta 0:00:01\n",
      "   ---------------------------------- ----- 33.3/38.6 MB 34.4 MB/s eta 0:00:01\n",
      "   ----------------------------------- ---- 34.6/38.6 MB 34.4 MB/s eta 0:00:01\n",
      "   ------------------------------------- -- 36.1/38.6 MB 31.2 MB/s eta 0:00:01\n",
      "   -------------------------------------- - 37.6/38.6 MB 29.7 MB/s eta 0:00:01\n",
      "   ---------------------------------------  38.6/38.6 MB 31.2 MB/s eta 0:00:01\n",
      "   ---------------------------------------  38.6/38.6 MB 31.2 MB/s eta 0:00:01\n",
      "   ---------------------------------------  38.6/38.6 MB 31.2 MB/s eta 0:00:01\n",
      "   ---------------------------------------  38.6/38.6 MB 31.2 MB/s eta 0:00:01\n",
      "   ---------------------------------------  38.6/38.6 MB 31.2 MB/s eta 0:00:01\n",
      "   ---------------------------------------- 38.6/38.6 MB 18.7 MB/s eta 0:00:00\n",
      "Using cached numpy-1.26.4-cp311-cp311-win_amd64.whl (15.8 MB)\n",
      "Installing collected packages: numpy, opencv-python\n",
      "Successfully installed numpy-1.26.4 opencv-python-4.9.0.80\n"
     ]
    }
   ],
   "source": [
    "!pip install opencv-python"
   ]
  },
  {
   "cell_type": "code",
   "execution_count": 2,
   "metadata": {},
   "outputs": [],
   "source": [
    "# Import opencv\n",
    "import cv2 \n",
    "\n",
    "# Import uuid\n",
    "import uuid\n",
    "\n",
    "# Import Operating System\n",
    "import os\n",
    "\n",
    "# Import time\n",
    "import time"
   ]
  },
  {
   "cell_type": "markdown",
   "metadata": {},
   "source": [
    "# 2. Define Images to Collect"
   ]
  },
  {
   "cell_type": "code",
   "execution_count": 11,
   "metadata": {},
   "outputs": [],
   "source": [
    "labels = ['cup', 'mobile', 'charger', 'pen','book','watch']\n",
    "number_imgs = 5"
   ]
  },
  {
   "cell_type": "markdown",
   "metadata": {},
   "source": [
    "# 3. Setup Folders "
   ]
  },
  {
   "cell_type": "code",
   "execution_count": 12,
   "metadata": {},
   "outputs": [],
   "source": [
    "IMAGES_PATH = os.path.join('Tensorflow', 'workspace', 'images', 'collectedimages')"
   ]
  },
  {
   "cell_type": "code",
   "execution_count": 13,
   "metadata": {},
   "outputs": [
    {
     "name": "stdout",
     "output_type": "stream",
     "text": [
      "Tensorflow\\workspace\\images\\collectedimages\n"
     ]
    }
   ],
   "source": [
    "print(IMAGES_PATH)"
   ]
  },
  {
   "cell_type": "code",
   "execution_count": 14,
   "metadata": {},
   "outputs": [
    {
     "data": {
      "text/plain": [
       "'nt'"
      ]
     },
     "execution_count": 14,
     "metadata": {},
     "output_type": "execute_result"
    }
   ],
   "source": [
    "os.name"
   ]
  },
  {
   "cell_type": "code",
   "execution_count": 15,
   "metadata": {},
   "outputs": [],
   "source": [
    "if not os.path.exists(IMAGES_PATH):\n",
    "    if os.name == 'nt':\n",
    "         !mkdir {IMAGES_PATH}\n",
    "for label in labels:\n",
    "    path = os.path.join(IMAGES_PATH, label)\n",
    "    if not os.path.exists(path):\n",
    "        !mkdir {path}"
   ]
  },
  {
   "cell_type": "markdown",
   "metadata": {},
   "source": [
    "# 4. Capture Images"
   ]
  },
  {
   "cell_type": "code",
   "execution_count": 18,
   "metadata": {},
   "outputs": [
    {
     "name": "stdout",
     "output_type": "stream",
     "text": [
      "Collecting images for thumbsup\n",
      "Collecting image 0\n",
      "Collecting image 1\n",
      "Collecting image 2\n",
      "Collecting image 3\n",
      "Collecting image 4\n"
     ]
    }
   ],
   "source": [
    "# for label in labels:\n",
    "#     cap = cv2.VideoCapture(0)\n",
    "#     print('Collecting images for {}'.format(label))\n",
    "#     time.sleep(5)\n",
    "#     for imgnum in range(number_imgs):\n",
    "#         print('Collecting image {}'.format(imgnum))\n",
    "#         ret, frame = cap.read()\n",
    "#         imgname = os.path.join(IMAGES_PATH,label,label+'.'+'{}.jpg'.format(str(uuid.uuid1())))\n",
    "#         cv2.imwrite(imgname, frame)\n",
    "#         cv2.imshow('frame', frame)\n",
    "#         time.sleep(2)\n",
    "\n",
    "#         if cv2.waitKey(1) & 0xFF == ord('q'):\n",
    "#             break\n",
    "# cap.release()\n",
    "# cv2.destroyAllWindows()"
   ]
  },
  {
   "cell_type": "markdown",
   "metadata": {},
   "source": [
    "# 5. Image Labelling"
   ]
  },
  {
   "cell_type": "code",
   "execution_count": 16,
   "metadata": {},
   "outputs": [
    {
     "name": "stdout",
     "output_type": "stream",
     "text": [
      "Collecting pyqt5\n",
      "  Downloading PyQt5-5.15.10-cp37-abi3-win_amd64.whl.metadata (2.2 kB)\n",
      "Collecting lxml\n",
      "  Downloading lxml-5.2.1-cp311-cp311-win_amd64.whl.metadata (3.5 kB)\n",
      "Collecting PyQt5-sip<13,>=12.13 (from pyqt5)\n",
      "  Downloading PyQt5_sip-12.13.0-cp311-cp311-win_amd64.whl.metadata (524 bytes)\n",
      "Collecting PyQt5-Qt5>=5.15.2 (from pyqt5)\n",
      "  Downloading PyQt5_Qt5-5.15.2-py3-none-win_amd64.whl.metadata (552 bytes)\n",
      "Downloading PyQt5-5.15.10-cp37-abi3-win_amd64.whl (6.8 MB)\n",
      "   ---------------------------------------- 0.0/6.8 MB ? eta -:--:--\n",
      "   ---------------------------------------- 0.0/6.8 MB ? eta -:--:--\n",
      "   ---------------------------------------- 0.0/6.8 MB ? eta -:--:--\n",
      "   ---------------------------------------- 0.0/6.8 MB 162.5 kB/s eta 0:00:42\n",
      "   ---------------------------------------- 0.0/6.8 MB 245.8 kB/s eta 0:00:28\n",
      "    --------------------------------------- 0.1/6.8 MB 708.1 kB/s eta 0:00:10\n",
      "   -- ------------------------------------- 0.5/6.8 MB 2.0 MB/s eta 0:00:04\n",
      "   --------- ------------------------------ 1.6/6.8 MB 5.7 MB/s eta 0:00:01\n",
      "   ------------------ --------------------- 3.2/6.8 MB 9.7 MB/s eta 0:00:01\n",
      "   ---------------------------- ----------- 4.9/6.8 MB 13.1 MB/s eta 0:00:01\n",
      "   ---------------------------------------  6.7/6.8 MB 15.8 MB/s eta 0:00:01\n",
      "   ---------------------------------------- 6.8/6.8 MB 15.0 MB/s eta 0:00:00\n",
      "Downloading lxml-5.2.1-cp311-cp311-win_amd64.whl (3.8 MB)\n",
      "   ---------------------------------------- 0.0/3.8 MB ? eta -:--:--\n",
      "   ------------- -------------------------- 1.2/3.8 MB 26.4 MB/s eta 0:00:01\n",
      "   ------------------------------- -------- 3.0/3.8 MB 31.9 MB/s eta 0:00:01\n",
      "   ---------------------------------------  3.8/3.8 MB 34.9 MB/s eta 0:00:01\n",
      "   ---------------------------------------  3.8/3.8 MB 34.9 MB/s eta 0:00:01\n",
      "   ---------------------------------------  3.8/3.8 MB 34.9 MB/s eta 0:00:01\n",
      "   ---------------------------------------- 3.8/3.8 MB 13.5 MB/s eta 0:00:00\n",
      "Downloading PyQt5_Qt5-5.15.2-py3-none-win_amd64.whl (50.1 MB)\n",
      "   ---------------------------------------- 0.0/50.1 MB ? eta -:--:--\n",
      "   - -------------------------------------- 1.8/50.1 MB 37.3 MB/s eta 0:00:02\n",
      "   -- ------------------------------------- 3.7/50.1 MB 39.1 MB/s eta 0:00:02\n",
      "   ---- ----------------------------------- 5.4/50.1 MB 38.0 MB/s eta 0:00:02\n",
      "   ----- ---------------------------------- 7.2/50.1 MB 38.1 MB/s eta 0:00:02\n",
      "   ------- -------------------------------- 9.1/50.1 MB 38.7 MB/s eta 0:00:02\n",
      "   -------- ------------------------------- 10.4/50.1 MB 36.3 MB/s eta 0:00:02\n",
      "   --------- ------------------------------ 12.2/50.1 MB 36.4 MB/s eta 0:00:02\n",
      "   ----------- ---------------------------- 14.2/50.1 MB 36.4 MB/s eta 0:00:01\n",
      "   ------------ --------------------------- 15.8/50.1 MB 36.4 MB/s eta 0:00:01\n",
      "   -------------- ------------------------- 17.7/50.1 MB 36.4 MB/s eta 0:00:01\n",
      "   --------------- ------------------------ 19.6/50.1 MB 38.5 MB/s eta 0:00:01\n",
      "   ----------------- ---------------------- 21.4/50.1 MB 40.9 MB/s eta 0:00:01\n",
      "   ------------------ --------------------- 23.0/50.1 MB 36.3 MB/s eta 0:00:01\n",
      "   ------------------- -------------------- 25.0/50.1 MB 38.5 MB/s eta 0:00:01\n",
      "   --------------------- ------------------ 26.8/50.1 MB 38.6 MB/s eta 0:00:01\n",
      "   ---------------------- ----------------- 28.6/50.1 MB 40.9 MB/s eta 0:00:01\n",
      "   ------------------------ --------------- 30.5/50.1 MB 40.9 MB/s eta 0:00:01\n",
      "   ------------------------- -------------- 32.2/50.1 MB 40.9 MB/s eta 0:00:01\n",
      "   --------------------------- ------------ 33.9/50.1 MB 40.9 MB/s eta 0:00:01\n",
      "   ---------------------------- ----------- 35.4/50.1 MB 38.6 MB/s eta 0:00:01\n",
      "   ----------------------------- ---------- 37.1/50.1 MB 38.5 MB/s eta 0:00:01\n",
      "   ------------------------------ --------- 38.0/50.1 MB 36.4 MB/s eta 0:00:01\n",
      "   ------------------------------ --------- 38.0/50.1 MB 36.4 MB/s eta 0:00:01\n",
      "   ------------------------------- -------- 39.8/50.1 MB 29.7 MB/s eta 0:00:01\n",
      "   ---------------------------------- ----- 43.3/50.1 MB 34.4 MB/s eta 0:00:01\n",
      "   ----------------------------------- ---- 43.9/50.1 MB 32.7 MB/s eta 0:00:01\n",
      "   ----------------------------------- ---- 43.9/50.1 MB 32.7 MB/s eta 0:00:01\n",
      "   ------------------------------------ --- 46.2/50.1 MB 29.7 MB/s eta 0:00:01\n",
      "   -------------------------------------- - 47.6/50.1 MB 28.5 MB/s eta 0:00:01\n",
      "   ---------------------------------------  49.0/50.1 MB 36.4 MB/s eta 0:00:01\n",
      "   ---------------------------------------  50.1/50.1 MB 34.4 MB/s eta 0:00:01\n",
      "   ---------------------------------------  50.1/50.1 MB 34.4 MB/s eta 0:00:01\n",
      "   ---------------------------------------  50.1/50.1 MB 34.4 MB/s eta 0:00:01\n",
      "   ---------------------------------------  50.1/50.1 MB 34.4 MB/s eta 0:00:01\n",
      "   ---------------------------------------  50.1/50.1 MB 34.4 MB/s eta 0:00:01\n",
      "   ---------------------------------------- 50.1/50.1 MB 19.2 MB/s eta 0:00:00\n",
      "Downloading PyQt5_sip-12.13.0-cp311-cp311-win_amd64.whl (78 kB)\n",
      "   ---------------------------------------- 0.0/78.5 kB ? eta -:--:--\n",
      "   ---------------------------------------- 78.5/78.5 kB ? eta 0:00:00\n",
      "Installing collected packages: PyQt5-Qt5, PyQt5-sip, lxml, pyqt5\n",
      "Successfully installed PyQt5-Qt5-5.15.2 PyQt5-sip-12.13.0 lxml-5.2.1 pyqt5-5.15.10\n"
     ]
    }
   ],
   "source": [
    "!pip install --upgrade pyqt5 lxml"
   ]
  },
  {
   "cell_type": "code",
   "execution_count": 17,
   "metadata": {},
   "outputs": [
    {
     "name": "stdout",
     "output_type": "stream",
     "text": [
      "Package           Version\n",
      "----------------- -----------\n",
      "asttokens         2.4.1\n",
      "colorama          0.4.6\n",
      "comm              0.2.2\n",
      "debugpy           1.8.1\n",
      "decorator         5.1.1\n",
      "executing         2.0.1\n",
      "ipykernel         6.29.4\n",
      "ipython           8.23.0\n",
      "jedi              0.19.1\n",
      "jupyter_client    8.6.1\n",
      "jupyter_core      5.7.2\n",
      "lxml              5.2.1\n",
      "matplotlib-inline 0.1.6\n",
      "nest-asyncio      1.6.0\n",
      "numpy             1.26.4\n",
      "opencv-python     4.9.0.80\n",
      "packaging         24.0\n",
      "parso             0.8.4\n",
      "pip               24.0\n",
      "platformdirs      4.2.0\n",
      "prompt-toolkit    3.0.43\n",
      "psutil            5.9.8\n",
      "pure-eval         0.2.2\n",
      "Pygments          2.17.2\n",
      "PyQt5             5.15.10\n",
      "PyQt5-Qt5         5.15.2\n",
      "PyQt5-sip         12.13.0\n",
      "python-dateutil   2.9.0.post0\n",
      "pywin32           306\n",
      "pyzmq             25.1.2\n",
      "setuptools        65.5.0\n",
      "six               1.16.0\n",
      "stack-data        0.6.3\n",
      "tornado           6.4\n",
      "traitlets         5.14.2\n",
      "typing_extensions 4.11.0\n",
      "wcwidth           0.2.13\n"
     ]
    }
   ],
   "source": [
    "!pip list"
   ]
  },
  {
   "cell_type": "code",
   "execution_count": 18,
   "metadata": {},
   "outputs": [],
   "source": [
    "LABELIMG_PATH = os.path.join('Tensorflow', 'labelimg')"
   ]
  },
  {
   "cell_type": "code",
   "execution_count": 19,
   "metadata": {},
   "outputs": [
    {
     "name": "stderr",
     "output_type": "stream",
     "text": [
      "Cloning into 'Tensorflow\\labelimg'...\n"
     ]
    }
   ],
   "source": [
    "if not os.path.exists(LABELIMG_PATH):\n",
    "    !mkdir {LABELIMG_PATH}\n",
    "    !git clone https://github.com/tzutalin/labelImg {LABELIMG_PATH}"
   ]
  },
  {
   "cell_type": "code",
   "execution_count": 20,
   "metadata": {},
   "outputs": [],
   "source": [
    "if os.name =='nt':\n",
    "    !cd {LABELIMG_PATH} && pyrcc5 -o libs/resources.py resources.qrc"
   ]
  },
  {
   "cell_type": "code",
   "execution_count": 21,
   "metadata": {},
   "outputs": [
    {
     "name": "stdout",
     "output_type": "stream",
     "text": [
      "Cancel creation.\n",
      "Image:E:\\Dev\\Laurentian University\\ML\\Project\\Tensorflow_Object Detection\\TFODCourse\\Tensorflow\\workspace\\images\\collectedimages\\book\\20240411_153757.jpg -> Annotation:E:/Dev/Laurentian University/ML/Project/Tensorflow_Object Detection/TFODCourse/Tensorflow/workspace/images/collectedimages/book\\20240411_153757.xml\n",
      "Image:E:\\Dev\\Laurentian University\\ML\\Project\\Tensorflow_Object Detection\\TFODCourse\\Tensorflow\\workspace\\images\\collectedimages\\book\\20240411_153757.jpg -> Annotation:E:/Dev/Laurentian University/ML/Project/Tensorflow_Object Detection/TFODCourse/Tensorflow/workspace/images/collectedimages/book\\20240411_153757.xml\n",
      "Image:E:\\Dev\\Laurentian University\\ML\\Project\\Tensorflow_Object Detection\\TFODCourse\\Tensorflow\\workspace\\images\\collectedimages\\book\\20240411_153800.jpg -> Annotation:E:/Dev/Laurentian University/ML/Project/Tensorflow_Object Detection/TFODCourse/Tensorflow/workspace/images/collectedimages/book\\20240411_153800.xml\n",
      "Image:E:\\Dev\\Laurentian University\\ML\\Project\\Tensorflow_Object Detection\\TFODCourse\\Tensorflow\\workspace\\images\\collectedimages\\book\\20240411_153813.jpg -> Annotation:E:/Dev/Laurentian University/ML/Project/Tensorflow_Object Detection/TFODCourse/Tensorflow/workspace/images/collectedimages/book\\20240411_153813.xml\n",
      "Cancel creation.\n",
      "Image:E:\\Dev\\Laurentian University\\ML\\Project\\Tensorflow_Object Detection\\TFODCourse\\Tensorflow\\workspace\\images\\collectedimages\\book\\20240411_153817.jpg -> Annotation:E:/Dev/Laurentian University/ML/Project/Tensorflow_Object Detection/TFODCourse/Tensorflow/workspace/images/collectedimages/book\\20240411_153817.xml\n",
      "Image:E:\\Dev\\Laurentian University\\ML\\Project\\Tensorflow_Object Detection\\TFODCourse\\Tensorflow\\workspace\\images\\collectedimages\\book\\20240411_153821.jpg -> Annotation:E:/Dev/Laurentian University/ML/Project/Tensorflow_Object Detection/TFODCourse/Tensorflow/workspace/images/collectedimages/book\\20240411_153821.xml\n",
      "Image:E:\\Dev\\Laurentian University\\ML\\Project\\Tensorflow_Object Detection\\TFODCourse\\Tensorflow\\workspace\\images\\collectedimages\\book\\20240411_153826.jpg -> Annotation:E:/Dev/Laurentian University/ML/Project/Tensorflow_Object Detection/TFODCourse/Tensorflow/workspace/images/collectedimages/book\\20240411_153826.xml\n",
      "Image:E:\\Dev\\Laurentian University\\ML\\Project\\Tensorflow_Object Detection\\TFODCourse\\Tensorflow\\workspace\\images\\collectedimages\\book\\20240411_153834.jpg -> Annotation:E:/Dev/Laurentian University/ML/Project/Tensorflow_Object Detection/TFODCourse/Tensorflow/workspace/images/collectedimages/book\\20240411_153834.xml\n",
      "Image:E:\\Dev\\Laurentian University\\ML\\Project\\Tensorflow_Object Detection\\TFODCourse\\Tensorflow\\workspace\\images\\collectedimages\\book\\20240411_153841.jpg -> Annotation:E:/Dev/Laurentian University/ML/Project/Tensorflow_Object Detection/TFODCourse/Tensorflow/workspace/images/collectedimages/book\\20240411_153841.xml\n",
      "Image:E:\\Dev\\Laurentian University\\ML\\Project\\Tensorflow_Object Detection\\TFODCourse\\Tensorflow\\workspace\\images\\collectedimages\\book\\20240411_153845.jpg -> Annotation:E:/Dev/Laurentian University/ML/Project/Tensorflow_Object Detection/TFODCourse/Tensorflow/workspace/images/collectedimages/book\\20240411_153845.xml\n",
      "Image:E:\\Dev\\Laurentian University\\ML\\Project\\Tensorflow_Object Detection\\TFODCourse\\Tensorflow\\workspace\\images\\collectedimages\\book\\20240411_153848.jpg -> Annotation:E:/Dev/Laurentian University/ML/Project/Tensorflow_Object Detection/TFODCourse/Tensorflow/workspace/images/collectedimages/book\\20240411_153848.xml\n",
      "Image:E:\\Dev\\Laurentian University\\ML\\Project\\Tensorflow_Object Detection\\TFODCourse\\Tensorflow\\workspace\\images\\collectedimages\\book\\20240411_153854.jpg -> Annotation:E:/Dev/Laurentian University/ML/Project/Tensorflow_Object Detection/TFODCourse/Tensorflow/workspace/images/collectedimages/book\\20240411_153854.xml\n",
      "Image:E:\\Dev\\Laurentian University\\ML\\Project\\Tensorflow_Object Detection\\TFODCourse\\Tensorflow\\workspace\\images\\collectedimages\\charger\\20240411_153243.jpg -> Annotation:E:/Dev/Laurentian University/ML/Project/Tensorflow_Object Detection/TFODCourse/Tensorflow/workspace/images/collectedimages/charger\\20240411_153243.xml\n",
      "Image:E:\\Dev\\Laurentian University\\ML\\Project\\Tensorflow_Object Detection\\TFODCourse\\Tensorflow\\workspace\\images\\collectedimages\\charger\\20240411_153256.jpg -> Annotation:E:/Dev/Laurentian University/ML/Project/Tensorflow_Object Detection/TFODCourse/Tensorflow/workspace/images/collectedimages/charger\\20240411_153256.xml\n",
      "Image:E:\\Dev\\Laurentian University\\ML\\Project\\Tensorflow_Object Detection\\TFODCourse\\Tensorflow\\workspace\\images\\collectedimages\\charger\\20240411_153243.jpg -> Annotation:E:/Dev/Laurentian University/ML/Project/Tensorflow_Object Detection/TFODCourse/Tensorflow/workspace/images/collectedimages/charger\\20240411_153243.xml\n",
      "Cancel creation.\n",
      "Image:E:\\Dev\\Laurentian University\\ML\\Project\\Tensorflow_Object Detection\\TFODCourse\\Tensorflow\\workspace\\images\\collectedimages\\charger\\20240411_153420.jpg -> Annotation:E:/Dev/Laurentian University/ML/Project/Tensorflow_Object Detection/TFODCourse/Tensorflow/workspace/images/collectedimages/charger\\20240411_153420.xml\n",
      "Image:E:\\Dev\\Laurentian University\\ML\\Project\\Tensorflow_Object Detection\\TFODCourse\\Tensorflow\\workspace\\images\\collectedimages\\charger\\20240411_153642.jpg -> Annotation:E:/Dev/Laurentian University/ML/Project/Tensorflow_Object Detection/TFODCourse/Tensorflow/workspace/images/collectedimages/charger\\20240411_153642.xml\n",
      "Image:E:\\Dev\\Laurentian University\\ML\\Project\\Tensorflow_Object Detection\\TFODCourse\\Tensorflow\\workspace\\images\\collectedimages\\charger\\20240411_153648.jpg -> Annotation:E:/Dev/Laurentian University/ML/Project/Tensorflow_Object Detection/TFODCourse/Tensorflow/workspace/images/collectedimages/charger\\20240411_153648.xml\n",
      "Image:E:\\Dev\\Laurentian University\\ML\\Project\\Tensorflow_Object Detection\\TFODCourse\\Tensorflow\\workspace\\images\\collectedimages\\cup\\20240411_153137.jpg -> Annotation:E:/Dev/Laurentian University/ML/Project/Tensorflow_Object Detection/TFODCourse/Tensorflow/workspace/images/collectedimages/cup\\20240411_153137.xml\n",
      "Image:E:\\Dev\\Laurentian University\\ML\\Project\\Tensorflow_Object Detection\\TFODCourse\\Tensorflow\\workspace\\images\\collectedimages\\cup\\20240411_153141.jpg -> Annotation:E:/Dev/Laurentian University/ML/Project/Tensorflow_Object Detection/TFODCourse/Tensorflow/workspace/images/collectedimages/cup\\20240411_153141.xml\n",
      "Image:E:\\Dev\\Laurentian University\\ML\\Project\\Tensorflow_Object Detection\\TFODCourse\\Tensorflow\\workspace\\images\\collectedimages\\cup\\20240411_153143.jpg -> Annotation:E:/Dev/Laurentian University/ML/Project/Tensorflow_Object Detection/TFODCourse/Tensorflow/workspace/images/collectedimages/cup\\20240411_153143.xml\n",
      "Image:E:\\Dev\\Laurentian University\\ML\\Project\\Tensorflow_Object Detection\\TFODCourse\\Tensorflow\\workspace\\images\\collectedimages\\cup\\20240411_153145.jpg -> Annotation:E:/Dev/Laurentian University/ML/Project/Tensorflow_Object Detection/TFODCourse/Tensorflow/workspace/images/collectedimages/cup\\20240411_153145.xml\n",
      "Image:E:\\Dev\\Laurentian University\\ML\\Project\\Tensorflow_Object Detection\\TFODCourse\\Tensorflow\\workspace\\images\\collectedimages\\cup\\20240411_153440.jpg -> Annotation:E:/Dev/Laurentian University/ML/Project/Tensorflow_Object Detection/TFODCourse/Tensorflow/workspace/images/collectedimages/cup\\20240411_153440.xml\n",
      "Image:E:\\Dev\\Laurentian University\\ML\\Project\\Tensorflow_Object Detection\\TFODCourse\\Tensorflow\\workspace\\images\\collectedimages\\cup\\20240411_153445.jpg -> Annotation:E:/Dev/Laurentian University/ML/Project/Tensorflow_Object Detection/TFODCourse/Tensorflow/workspace/images/collectedimages/cup\\20240411_153445.xml\n",
      "Image:E:\\Dev\\Laurentian University\\ML\\Project\\Tensorflow_Object Detection\\TFODCourse\\Tensorflow\\workspace\\images\\collectedimages\\cup\\20240411_153451.jpg -> Annotation:E:/Dev/Laurentian University/ML/Project/Tensorflow_Object Detection/TFODCourse/Tensorflow/workspace/images/collectedimages/cup\\20240411_153451.xml\n",
      "Image:E:\\Dev\\Laurentian University\\ML\\Project\\Tensorflow_Object Detection\\TFODCourse\\Tensorflow\\workspace\\images\\collectedimages\\cup\\20240411_153505.jpg -> Annotation:E:/Dev/Laurentian University/ML/Project/Tensorflow_Object Detection/TFODCourse/Tensorflow/workspace/images/collectedimages/cup\\20240411_153505.xml\n",
      "Image:E:\\Dev\\Laurentian University\\ML\\Project\\Tensorflow_Object Detection\\TFODCourse\\Tensorflow\\workspace\\images\\collectedimages\\cup\\20240411_153508.jpg -> Annotation:E:/Dev/Laurentian University/ML/Project/Tensorflow_Object Detection/TFODCourse/Tensorflow/workspace/images/collectedimages/cup\\20240411_153508.xml\n",
      "Image:E:\\Dev\\Laurentian University\\ML\\Project\\Tensorflow_Object Detection\\TFODCourse\\Tensorflow\\workspace\\images\\collectedimages\\cup\\20240411_153512.jpg -> Annotation:E:/Dev/Laurentian University/ML/Project/Tensorflow_Object Detection/TFODCourse/Tensorflow/workspace/images/collectedimages/cup\\20240411_153512.xml\n",
      "Image:E:\\Dev\\Laurentian University\\ML\\Project\\Tensorflow_Object Detection\\TFODCourse\\Tensorflow\\workspace\\images\\collectedimages\\cup\\20240411_153530.jpg -> Annotation:E:/Dev/Laurentian University/ML/Project/Tensorflow_Object Detection/TFODCourse/Tensorflow/workspace/images/collectedimages/cup\\20240411_153530.xml\n",
      "Image:E:\\Dev\\Laurentian University\\ML\\Project\\Tensorflow_Object Detection\\TFODCourse\\Tensorflow\\workspace\\images\\collectedimages\\cup\\20240411_153533.jpg -> Annotation:E:/Dev/Laurentian University/ML/Project/Tensorflow_Object Detection/TFODCourse/Tensorflow/workspace/images/collectedimages/cup\\20240411_153533.xml\n",
      "Image:E:\\Dev\\Laurentian University\\ML\\Project\\Tensorflow_Object Detection\\TFODCourse\\Tensorflow\\workspace\\images\\collectedimages\\cup\\20240411_153537.jpg -> Annotation:E:/Dev/Laurentian University/ML/Project/Tensorflow_Object Detection/TFODCourse/Tensorflow/workspace/images/collectedimages/cup\\20240411_153537.xml\n",
      "Image:E:\\Dev\\Laurentian University\\ML\\Project\\Tensorflow_Object Detection\\TFODCourse\\Tensorflow\\workspace\\images\\collectedimages\\cup\\20240411_153540.jpg -> Annotation:E:/Dev/Laurentian University/ML/Project/Tensorflow_Object Detection/TFODCourse/Tensorflow/workspace/images/collectedimages/cup\\20240411_153540.xml\n",
      "Image:E:\\Dev\\Laurentian University\\ML\\Project\\Tensorflow_Object Detection\\TFODCourse\\Tensorflow\\workspace\\images\\collectedimages\\cup\\20240411_153543.jpg -> Annotation:E:/Dev/Laurentian University/ML/Project/Tensorflow_Object Detection/TFODCourse/Tensorflow/workspace/images/collectedimages/cup\\20240411_153543.xml\n",
      "Image:E:\\Dev\\Laurentian University\\ML\\Project\\Tensorflow_Object Detection\\TFODCourse\\Tensorflow\\workspace\\images\\collectedimages\\cup\\20240411_153546.jpg -> Annotation:E:/Dev/Laurentian University/ML/Project/Tensorflow_Object Detection/TFODCourse/Tensorflow/workspace/images/collectedimages/cup\\20240411_153546.xml\n",
      "Image:E:\\Dev\\Laurentian University\\ML\\Project\\Tensorflow_Object Detection\\TFODCourse\\Tensorflow\\workspace\\images\\collectedimages\\mobile\\20240411_153119.jpg -> Annotation:E:/Dev/Laurentian University/ML/Project/Tensorflow_Object Detection/TFODCourse/Tensorflow/workspace/images/collectedimages/mobile\\20240411_153119.xml\n",
      "Image:E:\\Dev\\Laurentian University\\ML\\Project\\Tensorflow_Object Detection\\TFODCourse\\Tensorflow\\workspace\\images\\collectedimages\\mobile\\20240411_153124.jpg -> Annotation:E:/Dev/Laurentian University/ML/Project/Tensorflow_Object Detection/TFODCourse/Tensorflow/workspace/images/collectedimages/mobile\\20240411_153124.xml\n",
      "Image:E:\\Dev\\Laurentian University\\ML\\Project\\Tensorflow_Object Detection\\TFODCourse\\Tensorflow\\workspace\\images\\collectedimages\\mobile\\20240411_153312.jpg -> Annotation:E:/Dev/Laurentian University/ML/Project/Tensorflow_Object Detection/TFODCourse/Tensorflow/workspace/images/collectedimages/mobile\\20240411_153312.xml\n",
      "Image:E:\\Dev\\Laurentian University\\ML\\Project\\Tensorflow_Object Detection\\TFODCourse\\Tensorflow\\workspace\\images\\collectedimages\\mobile\\20240411_153317.jpg -> Annotation:E:/Dev/Laurentian University/ML/Project/Tensorflow_Object Detection/TFODCourse/Tensorflow/workspace/images/collectedimages/mobile\\20240411_153317.xml\n",
      "Image:E:\\Dev\\Laurentian University\\ML\\Project\\Tensorflow_Object Detection\\TFODCourse\\Tensorflow\\workspace\\images\\collectedimages\\mobile\\20240411_153357.jpg -> Annotation:E:/Dev/Laurentian University/ML/Project/Tensorflow_Object Detection/TFODCourse/Tensorflow/workspace/images/collectedimages/mobile\\20240411_153357.xml\n",
      "Cancel creation.\n",
      "Cancel creation.\n",
      "Image:E:\\Dev\\Laurentian University\\ML\\Project\\Tensorflow_Object Detection\\TFODCourse\\Tensorflow\\workspace\\images\\collectedimages\\mobile\\20240411_153358.jpg -> Annotation:E:/Dev/Laurentian University/ML/Project/Tensorflow_Object Detection/TFODCourse/Tensorflow/workspace/images/collectedimages/mobile\\20240411_153358.xml\n",
      "Cancel creation.\n",
      "Image:E:\\Dev\\Laurentian University\\ML\\Project\\Tensorflow_Object Detection\\TFODCourse\\Tensorflow\\workspace\\images\\collectedimages\\mobile\\20240411_153401.jpg -> Annotation:E:/Dev/Laurentian University/ML/Project/Tensorflow_Object Detection/TFODCourse/Tensorflow/workspace/images/collectedimages/mobile\\20240411_153401.xml\n",
      "Image:E:\\Dev\\Laurentian University\\ML\\Project\\Tensorflow_Object Detection\\TFODCourse\\Tensorflow\\workspace\\images\\collectedimages\\mobile\\20240411_153404.jpg -> Annotation:E:/Dev/Laurentian University/ML/Project/Tensorflow_Object Detection/TFODCourse/Tensorflow/workspace/images/collectedimages/mobile\\20240411_153404.xml\n",
      "Image:E:\\Dev\\Laurentian University\\ML\\Project\\Tensorflow_Object Detection\\TFODCourse\\Tensorflow\\workspace\\images\\collectedimages\\mobile\\20240411_153705.jpg -> Annotation:E:/Dev/Laurentian University/ML/Project/Tensorflow_Object Detection/TFODCourse/Tensorflow/workspace/images/collectedimages/mobile\\20240411_153705.xml\n",
      "Image:E:\\Dev\\Laurentian University\\ML\\Project\\Tensorflow_Object Detection\\TFODCourse\\Tensorflow\\workspace\\images\\collectedimages\\mobile\\20240411_153709.jpg -> Annotation:E:/Dev/Laurentian University/ML/Project/Tensorflow_Object Detection/TFODCourse/Tensorflow/workspace/images/collectedimages/mobile\\20240411_153709.xml\n",
      "Cancel creation.\n",
      "Image:E:\\Dev\\Laurentian University\\ML\\Project\\Tensorflow_Object Detection\\TFODCourse\\Tensorflow\\workspace\\images\\collectedimages\\mobile\\20240411_153711.jpg -> Annotation:E:/Dev/Laurentian University/ML/Project/Tensorflow_Object Detection/TFODCourse/Tensorflow/workspace/images/collectedimages/mobile\\20240411_153711.xml\n",
      "Cancel creation.\n",
      "Image:E:\\Dev\\Laurentian University\\ML\\Project\\Tensorflow_Object Detection\\TFODCourse\\Tensorflow\\workspace\\images\\collectedimages\\mobile\\20240411_153719.jpg -> Annotation:E:/Dev/Laurentian University/ML/Project/Tensorflow_Object Detection/TFODCourse/Tensorflow/workspace/images/collectedimages/mobile\\20240411_153719.xml\n",
      "Image:E:\\Dev\\Laurentian University\\ML\\Project\\Tensorflow_Object Detection\\TFODCourse\\Tensorflow\\workspace\\images\\collectedimages\\mobile\\20240411_153722.jpg -> Annotation:E:/Dev/Laurentian University/ML/Project/Tensorflow_Object Detection/TFODCourse/Tensorflow/workspace/images/collectedimages/mobile\\20240411_153722.xml\n",
      "Image:E:\\Dev\\Laurentian University\\ML\\Project\\Tensorflow_Object Detection\\TFODCourse\\Tensorflow\\workspace\\images\\collectedimages\\mobile\\20240411_153724.jpg -> Annotation:E:/Dev/Laurentian University/ML/Project/Tensorflow_Object Detection/TFODCourse/Tensorflow/workspace/images/collectedimages/mobile\\20240411_153724.xml\n",
      "Image:E:\\Dev\\Laurentian University\\ML\\Project\\Tensorflow_Object Detection\\TFODCourse\\Tensorflow\\workspace\\images\\collectedimages\\pen\\20240411_153910.jpg -> Annotation:E:/Dev/Laurentian University/ML/Project/Tensorflow_Object Detection/TFODCourse/Tensorflow/workspace/images/collectedimages/pen\\20240411_153910.xml\n",
      "Image:E:\\Dev\\Laurentian University\\ML\\Project\\Tensorflow_Object Detection\\TFODCourse\\Tensorflow\\workspace\\images\\collectedimages\\pen\\20240411_153914.jpg -> Annotation:E:/Dev/Laurentian University/ML/Project/Tensorflow_Object Detection/TFODCourse/Tensorflow/workspace/images/collectedimages/pen\\20240411_153914.xml\n",
      "Image:E:\\Dev\\Laurentian University\\ML\\Project\\Tensorflow_Object Detection\\TFODCourse\\Tensorflow\\workspace\\images\\collectedimages\\pen\\20240411_153917.jpg -> Annotation:E:/Dev/Laurentian University/ML/Project/Tensorflow_Object Detection/TFODCourse/Tensorflow/workspace/images/collectedimages/pen\\20240411_153917.xml\n",
      "Image:E:\\Dev\\Laurentian University\\ML\\Project\\Tensorflow_Object Detection\\TFODCourse\\Tensorflow\\workspace\\images\\collectedimages\\pen\\20240411_153920.jpg -> Annotation:E:/Dev/Laurentian University/ML/Project/Tensorflow_Object Detection/TFODCourse/Tensorflow/workspace/images/collectedimages/pen\\20240411_153920.xml\n",
      "Image:E:\\Dev\\Laurentian University\\ML\\Project\\Tensorflow_Object Detection\\TFODCourse\\Tensorflow\\workspace\\images\\collectedimages\\pen\\20240411_153923.jpg -> Annotation:E:/Dev/Laurentian University/ML/Project/Tensorflow_Object Detection/TFODCourse/Tensorflow/workspace/images/collectedimages/pen\\20240411_153923.xml\n",
      "Image:E:\\Dev\\Laurentian University\\ML\\Project\\Tensorflow_Object Detection\\TFODCourse\\Tensorflow\\workspace\\images\\collectedimages\\pen\\20240411_153925.jpg -> Annotation:E:/Dev/Laurentian University/ML/Project/Tensorflow_Object Detection/TFODCourse/Tensorflow/workspace/images/collectedimages/pen\\20240411_153925.xml\n",
      "Image:E:\\Dev\\Laurentian University\\ML\\Project\\Tensorflow_Object Detection\\TFODCourse\\Tensorflow\\workspace\\images\\collectedimages\\watch\\20240411_153204.jpg -> Annotation:E:/Dev/Laurentian University/ML/Project/Tensorflow_Object Detection/TFODCourse/Tensorflow/workspace/images/collectedimages/watch\\20240411_153204.xml\n",
      "Image:E:\\Dev\\Laurentian University\\ML\\Project\\Tensorflow_Object Detection\\TFODCourse\\Tensorflow\\workspace\\images\\collectedimages\\watch\\20240411_153207.jpg -> Annotation:E:/Dev/Laurentian University/ML/Project/Tensorflow_Object Detection/TFODCourse/Tensorflow/workspace/images/collectedimages/watch\\20240411_153207.xml\n",
      "Image:E:\\Dev\\Laurentian University\\ML\\Project\\Tensorflow_Object Detection\\TFODCourse\\Tensorflow\\workspace\\images\\collectedimages\\watch\\20240411_153210.jpg -> Annotation:E:/Dev/Laurentian University/ML/Project/Tensorflow_Object Detection/TFODCourse/Tensorflow/workspace/images/collectedimages/watch\\20240411_153210.xml\n",
      "Image:E:\\Dev\\Laurentian University\\ML\\Project\\Tensorflow_Object Detection\\TFODCourse\\Tensorflow\\workspace\\images\\collectedimages\\watch\\20240411_153217.jpg -> Annotation:E:/Dev/Laurentian University/ML/Project/Tensorflow_Object Detection/TFODCourse/Tensorflow/workspace/images/collectedimages/watch\\20240411_153217.xml\n",
      "Image:E:\\Dev\\Laurentian University\\ML\\Project\\Tensorflow_Object Detection\\TFODCourse\\Tensorflow\\workspace\\images\\collectedimages\\watch\\20240411_153218.jpg -> Annotation:E:/Dev/Laurentian University/ML/Project/Tensorflow_Object Detection/TFODCourse/Tensorflow/workspace/images/collectedimages/watch\\20240411_153218.xml\n",
      "Image:E:\\Dev\\Laurentian University\\ML\\Project\\Tensorflow_Object Detection\\TFODCourse\\Tensorflow\\workspace\\images\\collectedimages\\watch\\20240411_153221.jpg -> Annotation:E:/Dev/Laurentian University/ML/Project/Tensorflow_Object Detection/TFODCourse/Tensorflow/workspace/images/collectedimages/watch\\20240411_153221.xml\n",
      "Image:E:\\Dev\\Laurentian University\\ML\\Project\\Tensorflow_Object Detection\\TFODCourse\\Tensorflow\\workspace\\images\\collectedimages\\watch\\20240411_153222.jpg -> Annotation:E:/Dev/Laurentian University/ML/Project/Tensorflow_Object Detection/TFODCourse/Tensorflow/workspace/images/collectedimages/watch\\20240411_153222.xml\n",
      "Image:E:\\Dev\\Laurentian University\\ML\\Project\\Tensorflow_Object Detection\\TFODCourse\\Tensorflow\\workspace\\images\\collectedimages\\watch\\20240411_153732.jpg -> Annotation:E:/Dev/Laurentian University/ML/Project/Tensorflow_Object Detection/TFODCourse/Tensorflow/workspace/images/collectedimages/watch\\20240411_153732.xml\n",
      "Image:E:\\Dev\\Laurentian University\\ML\\Project\\Tensorflow_Object Detection\\TFODCourse\\Tensorflow\\workspace\\images\\collectedimages\\watch\\20240411_153734.jpg -> Annotation:E:/Dev/Laurentian University/ML/Project/Tensorflow_Object Detection/TFODCourse/Tensorflow/workspace/images/collectedimages/watch\\20240411_153734.xml\n",
      "Image:E:\\Dev\\Laurentian University\\ML\\Project\\Tensorflow_Object Detection\\TFODCourse\\Tensorflow\\workspace\\images\\collectedimages\\watch\\20240411_153737.jpg -> Annotation:E:/Dev/Laurentian University/ML/Project/Tensorflow_Object Detection/TFODCourse/Tensorflow/workspace/images/collectedimages/watch\\20240411_153737.xml\n"
     ]
    },
    {
     "name": "stderr",
     "output_type": "stream",
     "text": [
      "QAction::event: Ambiguous shortcut overload: Ctrl+Shift+S\n",
      "QAction::event: Ambiguous shortcut overload: Ctrl+Shift+S\n"
     ]
    }
   ],
   "source": [
    "!cd {LABELIMG_PATH} && python labelImg.py"
   ]
  },
  {
   "cell_type": "markdown",
   "metadata": {},
   "source": [
    "# 6. Move them into a Training and Testing Partition"
   ]
  },
  {
   "cell_type": "markdown",
   "metadata": {},
   "source": [
    "# OPTIONAL - 7. Compress them for Colab Training"
   ]
  },
  {
   "cell_type": "code",
   "execution_count": 23,
   "metadata": {},
   "outputs": [
    {
     "name": "stdout",
     "output_type": "stream",
     "text": [
      "test\n"
     ]
    }
   ],
   "source": [
    "print(\"test\")"
   ]
  },
  {
   "cell_type": "code",
   "execution_count": 24,
   "metadata": {},
   "outputs": [
    {
     "name": "stdout",
     "output_type": "stream",
     "text": [
      "hi github\n"
     ]
    }
   ],
   "source": [
    "print(\"hi github\")"
   ]
  },
  {
   "cell_type": "code",
   "execution_count": null,
   "metadata": {},
   "outputs": [],
   "source": []
  },
  {
   "cell_type": "code",
   "execution_count": null,
   "metadata": {},
   "outputs": [],
   "source": []
  }
 ],
 "metadata": {
  "kernelspec": {
   "display_name": "tfod",
   "language": "python",
   "name": "tfod"
  },
  "language_info": {
   "codemirror_mode": {
    "name": "ipython",
    "version": 3
   },
   "file_extension": ".py",
   "mimetype": "text/x-python",
   "name": "python",
   "nbconvert_exporter": "python",
   "pygments_lexer": "ipython3",
   "version": "3.11.9"
  }
 },
 "nbformat": 4,
 "nbformat_minor": 4
}
